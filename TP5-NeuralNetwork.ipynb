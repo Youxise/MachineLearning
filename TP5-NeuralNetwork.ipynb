{
  "cells": [
    {
      "cell_type": "markdown",
      "source": [
        "Trinôme G1 :\n",
        "- 191931066239, AMAZOUZ Sara Selma\n",
        "- 191931045284, GHENAIET Walid\n",
        "- 191931089336, MOULAI Mohamed Youcef\n",
        "\n",
        "-----------"
      ],
      "metadata": {
        "id": "fxJ1boQdcvh3"
      }
    },
    {
      "cell_type": "markdown",
      "metadata": {
        "id": "5UOjepi2n375"
      },
      "source": [
        "# TP 5 Réseaux de neurones - Multi classification et Propagation en avant\n",
        "Dans ce TP, nous aimerions faire une classification multiclasse. Pour ce faire, nous allons comparer entre une classification utilisant la regression logistique, et une classification en utilisant les réseaux de neurones.\n",
        "\n",
        "L'ensemble de données que nous allons utiliser est le même que celui utilisé durant le TP1, i.e. les images de chiffres manuscrits.\n"
      ]
    },
    {
      "cell_type": "markdown",
      "metadata": {
        "id": "iVdXlUOVn379"
      },
      "source": [
        "# Importation des librairies necessaires au travail"
      ]
    },
    {
      "cell_type": "code",
      "execution_count": null,
      "metadata": {
        "id": "ZlecW8xVn37-"
      },
      "outputs": [],
      "source": [
        "import numpy as np\n",
        "import matplotlib.pyplot as plt\n",
        "from numpy import random\n",
        "import cv2"
      ]
    },
    {
      "cell_type": "markdown",
      "metadata": {
        "id": "8_cyptqtn37_"
      },
      "source": [
        "# Lecture des fichiers de données\n",
        "Pour ce TP, nous allons lire les données à partir d'un fichier csv."
      ]
    },
    {
      "cell_type": "code",
      "execution_count": null,
      "metadata": {
        "colab": {
          "base_uri": "https://localhost:8080/"
        },
        "id": "2YuWMqc6n37_",
        "outputId": "7cc0d02b-b6bb-4160-9a13-fb80e77a0547"
      },
      "outputs": [
        {
          "output_type": "execute_result",
          "data": {
            "text/plain": [
              "(5000, 401)"
            ]
          },
          "metadata": {},
          "execution_count": 3
        }
      ],
      "source": [
        "# données\n",
        "data = np.genfromtxt('/content/data.csv', delimiter=',', dtype=float)\n",
        "data.shape"
      ]
    },
    {
      "cell_type": "markdown",
      "metadata": {
        "id": "4ZNBKipVn38A"
      },
      "source": [
        "Dans ces données (data), les 400 premières colonnes representent les pixels de l'image (20x20), la dernière colonne represente la classe de l'image (chiffres de 0 à 9). (http://yann.lecun.com/exdb/mnist/)\n",
        "\n",
        "Chaque ligne represente un exemple de notre ensemble de données.\n",
        "\n",
        "Mettons ces données dans leus vecteurs correspondants."
      ]
    },
    {
      "cell_type": "code",
      "execution_count": null,
      "metadata": {
        "id": "pO91g1_En38A"
      },
      "outputs": [],
      "source": [
        "# rajoutons l'ordonnée à l'origine theta 0\n",
        "intercept=np.ones((data.shape[0],1))\n",
        "X=np.column_stack((intercept,data[:,:-1]))\n",
        "y=data[:,-1]\n",
        "# forcer y à avoir une seule colonne\n",
        "y = y.reshape( y.shape[0], 1)"
      ]
    },
    {
      "cell_type": "code",
      "execution_count": null,
      "metadata": {
        "colab": {
          "base_uri": "https://localhost:8080/"
        },
        "id": "NfjEQy0In38B",
        "outputId": "0c5aac6b-9f5f-4611-a027-99fd1d815d4d"
      },
      "outputs": [
        {
          "output_type": "stream",
          "name": "stdout",
          "text": [
            "X (5000, 401)  y  (5000, 1)\n"
          ]
        }
      ],
      "source": [
        "print('X', X.shape ,' y ', y.shape)"
      ]
    },
    {
      "cell_type": "markdown",
      "metadata": {
        "id": "oAJdgZGjn38B"
      },
      "source": [
        "Visualisation aléatoire de quelques données"
      ]
    },
    {
      "cell_type": "code",
      "execution_count": null,
      "metadata": {
        "colab": {
          "base_uri": "https://localhost:8080/",
          "height": 158
        },
        "id": "slAqbRuLn38B",
        "outputId": "6449d621-f2fc-4472-9f91-9e90eca7bbe0"
      },
      "outputs": [
        {
          "output_type": "display_data",
          "data": {
            "text/plain": [
              "<Figure size 1500x800 with 13 Axes>"
            ],
            "image/png": "[encoded data removed]"
          },
          "metadata": {}
        }
      ],
      "source": [
        "plt.figure(figsize=(15,8))\n",
        "for i in range(13):\n",
        "    c = random.randint(X.shape[0])\n",
        "    a = X[c,1:].reshape((20, 20))\n",
        "    a=np.transpose(a)\n",
        "    plt.subplot(1,13,i+1)\n",
        "    plt.title('label '+ str(y[c]))\n",
        "    plt.imshow(a,cmap='gray')"
      ]
    },
    {
      "cell_type": "markdown",
      "metadata": {
        "id": "xjEZWnNWn38C"
      },
      "source": [
        "# Partie 1, régression logistique\n",
        "Dans cette partie, nous aimerions utiliser la régression logistique pour classifier nos images\n",
        "\n",
        "Rappelons que la régression logistique nous donne la probabilité d'appartenance (oui ou non) à la classe 1 (elle permet une classification binaire).\n",
        "\n",
        "Pour étendre la régression logistique à une multi-classification, nous allons utiliser une stratégie 1 contre tous.\n",
        "\n",
        "Nous paramètres $\\theta$ seront donc une matrice avec un nombre de lignes égale au nombre de classes, et avec un nombre de colones égale au nombre decaractéristiques (chaque ligne de la matrice $\\theta$ correspond aux paramètres d'un classifieur."
      ]
    },
    {
      "cell_type": "code",
      "execution_count": null,
      "metadata": {
        "id": "GGLe__iFcbFs"
      },
      "outputs": [],
      "source": [
        "def Sigmoid(z):\n",
        "    # pour une valeur donnée, cette fonction calculera sa sigmoid\n",
        "    return 1/(1+np.exp(-z))\n",
        ""
      ]
    },
    {
      "cell_type": "code",
      "source": [
        "def prediction(X, theta):\n",
        "  return np.dot(X, theta)"
      ],
      "metadata": {
        "id": "EgdhIPwk9eeL"
      },
      "execution_count": null,
      "outputs": []
    },
    {
      "cell_type": "code",
      "execution_count": null,
      "metadata": {
        "id": "0dGpfp3LcbFt"
      },
      "outputs": [],
      "source": [
        "def computeCost(X, y, theta, Lambda):\n",
        "\n",
        "    wahed = np.ones((y.shape[0], 1)).astype(float)\n",
        "    y_preds = Sigmoid(np.dot(X, theta))\n",
        "    # Fonction cout de la regression logistique + la regularisation\n",
        "    reg = Lambda * np.sum((theta[1:] ** 2)) / (2 * y.shape[0])\n",
        "    costLog =  - ( np.sum(y * np.log(y_preds) + (wahed - y) * np.log(wahed - y_preds)) / y.shape[0] )\n",
        "    return  costLog + reg"
      ]
    },
    {
      "cell_type": "code",
      "execution_count": null,
      "metadata": {
        "id": "Db9vHBKncbFu"
      },
      "outputs": [],
      "source": [
        "def gradientDescent(X, y, theta, alpha, iterations, Lambda):\n",
        "    # garder aussi le cout à chaque itération\n",
        "    # pour afficher le coût en fonction de theta0 et theta1\n",
        "\n",
        "    thetas = []\n",
        "    costs = []\n",
        "\n",
        "    for i in range(iterations):\n",
        "\n",
        "      # feed forward\n",
        "      cost = computeCost(X, y, theta, Lambda)\n",
        "\n",
        "      # sauvegarde des couts & thetas\n",
        "      costs.append(cost)\n",
        "      thetas.append(np.array(theta))\n",
        "\n",
        "      # calcul des derivees & modification des poids thetas (back propagation)\n",
        "      for j in range(1, X.shape[1]):\n",
        "        d = ( (np.dot(np.array(X[:,j]).transpose(), (Sigmoid(prediction(X, theta)) - y))) + (Lambda * theta[j]) ) / y.shape[0];\n",
        "        theta[j] -= alpha * d\n",
        "      theta[0] -= alpha * np.dot(np.array(X[:,0]).transpose(), (Sigmoid(prediction(X, theta)) - y)) / y.shape[0]\n",
        "\n",
        "    return np.array(thetas), np.array(costs)"
      ]
    },
    {
      "cell_type": "code",
      "execution_count": null,
      "metadata": {
        "id": "SDAQk_sJn38C"
      },
      "outputs": [],
      "source": [
        "def lrCostFunction (X, y, initial_theta, alpha, MaxIter,lambda_):\n",
        "    # dans cette fonction vous devez appliquer la regression logistique avec tout ce que ceci implique\n",
        "    # calcul du coût, minimisation du coût avec descente du gradient, et retour des paramètres theta pour une classe\n",
        "\n",
        "    thetas, costs = gradientDescent(X, y, initial_theta, alpha, MaxIter, lambda_)\n",
        "    return thetas[-1]\n"
      ]
    },
    {
      "cell_type": "code",
      "execution_count": null,
      "metadata": {
        "id": "kJkMnkAqn38C"
      },
      "outputs": [],
      "source": [
        "def predictOneVsAll (all_theta, X):\n",
        "    # ici en utilisant les paramètres calculés par la régression logisitique,\n",
        "    # nous aiemrions retourner les etiquettes predites\n",
        "\n",
        "    # Ici chaque classifieur retournera de probabilité, il faudra choisir\n",
        "    # la probabilité maximale\n",
        "    # de tous les classifieurs d'une exemple donné\n",
        "    # répeter pour tous les exmemples\n",
        "\n",
        "    y_pred = np.argmax(Sigmoid(prediction(X, all_theta.transpose())), axis=1)\n",
        "\n",
        "    return classes[y_pred]"
      ]
    },
    {
      "cell_type": "code",
      "execution_count": null,
      "metadata": {
        "colab": {
          "base_uri": "https://localhost:8080/"
        },
        "id": "_LKCgZQrn38D",
        "outputId": "d685cfa8-7b1b-44f4-a887-15265ee5e311"
      },
      "outputs": [
        {
          "output_type": "execute_result",
          "data": {
            "text/plain": [
              "(10, 401)"
            ]
          },
          "metadata": {},
          "execution_count": 17
        }
      ],
      "source": [
        "classes= np.unique(y)\n",
        "number_classes=classes.shape[0]\n",
        "all_theta = np.zeros((number_classes, X.shape[1]));\n",
        "all_theta = all_theta.astype(float)\n",
        "all_theta.shape"
      ]
    },
    {
      "cell_type": "code",
      "execution_count": null,
      "metadata": {
        "colab": {
          "base_uri": "https://localhost:8080/"
        },
        "id": "R73aquKfn38D",
        "outputId": "f19cdf07-db92-4208-b697-fd211dd86d40"
      },
      "outputs": [
        {
          "output_type": "stream",
          "name": "stdout",
          "text": [
            "class  0\n",
            "class  1\n",
            "class  2\n",
            "class  3\n",
            "class  4\n",
            "class  5\n",
            "class  6\n",
            "class  7\n",
            "class  8\n",
            "class  9\n"
          ]
        }
      ],
      "source": [
        "MaxIter= 100\n",
        "lambda_= 0.1\n",
        "alpha = 0.01\n",
        "# initial_theta pour chaque classifieur\n",
        "initial_theta=np.zeros((X.shape[1], 1));\n",
        "for i in range (number_classes):\n",
        "     # appel pour chaque classifieur\n",
        "     print(\"class \", i)\n",
        "     theta = lrCostFunction(X,(y==classes[i]).astype(int),initial_theta,alpha, MaxIter,lambda_);\n",
        "     all_theta[i,:]=theta.transpose();"
      ]
    },
    {
      "cell_type": "code",
      "execution_count": null,
      "metadata": {
        "colab": {
          "base_uri": "https://localhost:8080/"
        },
        "id": "HDJ2mTwnn38E",
        "outputId": "0020b92a-b698-46c3-bece-bba2e3cb60e1"
      },
      "outputs": [
        {
          "output_type": "execute_result",
          "data": {
            "text/plain": [
              "array([[0.],\n",
              "       [0.],\n",
              "       [0.],\n",
              "       ...,\n",
              "       [9.],\n",
              "       [0.],\n",
              "       [0.]])"
            ]
          },
          "metadata": {},
          "execution_count": 24
        }
      ],
      "source": [
        "y_pred = predictOneVsAll(all_theta, X);\n",
        "ypred = y_pred.reshape(y_pred.shape[0], 1)\n",
        "ypred"
      ]
    },
    {
      "cell_type": "markdown",
      "metadata": {
        "id": "RH2xUYP5n38E"
      },
      "source": [
        "# Qualité du classifieur RL\n",
        "\n",
        "Prédire des valeurs de y\n",
        "\n",
        "Ici il serait interessant de calculer la précision de notre classifieur\n",
        "\n",
        "Essayons de calculer ça avec\n",
        "\n",
        "moyenne(y==y-pred) * 100\n",
        "\n",
        "Ceci donnera un pourcentage de precision"
      ]
    },
    {
      "cell_type": "code",
      "execution_count": null,
      "metadata": {
        "colab": {
          "base_uri": "https://localhost:8080/"
        },
        "id": "-ZKNY7U6n38E",
        "outputId": "470ee372-f291-4f4d-a8bc-420295182682"
      },
      "outputs": [
        {
          "output_type": "execute_result",
          "data": {
            "text/plain": [
              "97.52"
            ]
          },
          "metadata": {},
          "execution_count": 33
        }
      ],
      "source": [
        "# augmenter le nombre d'iterations pour une meilleure precision\n",
        "precision = np.mean(y==y_pred)*100\n",
        "precision"
      ]
    },
    {
      "cell_type": "markdown",
      "metadata": {
        "id": "Z8awz67Qn38E"
      },
      "source": [
        "# Partie 2: Réseaux de neurones\n",
        "Pour cette partie, nous choisissons une réseau simple:\n",
        "\n",
        "- une couche d'entrée avec 400 noeuds (20 x 20 pixels) + le biais\n",
        "- une couche cachée avec 25 noeuds\n",
        "- une couche de sortie avec 10 noeuds (nombre de classes)"
      ]
    },
    {
      "cell_type": "code",
      "execution_count": null,
      "metadata": {
        "colab": {
          "base_uri": "https://localhost:8080/"
        },
        "id": "-zGP8DKAn38E",
        "outputId": "80337fc0-5707-4d59-e935-32a6089ed844"
      },
      "outputs": [
        {
          "output_type": "execute_result",
          "data": {
            "text/plain": [
              "(25, 401)"
            ]
          },
          "metadata": {},
          "execution_count": 26
        }
      ],
      "source": [
        "# poids de la couche 1\n",
        "W1 = np.genfromtxt('/content/W1.csv', delimiter=',', dtype=float)\n",
        "W1.shape\n"
      ]
    },
    {
      "cell_type": "code",
      "execution_count": null,
      "metadata": {
        "colab": {
          "base_uri": "https://localhost:8080/"
        },
        "id": "AtaJcrnwn38F",
        "outputId": "8d6bbcd7-a494-4e5c-8b62-8fde7e6665ef"
      },
      "outputs": [
        {
          "output_type": "execute_result",
          "data": {
            "text/plain": [
              "(10, 26)"
            ]
          },
          "metadata": {},
          "execution_count": 27
        }
      ],
      "source": [
        "# poids de la couche 2\n",
        "W2 = np.genfromtxt('/content/W2.csv', delimiter=',', dtype=float)\n",
        "W2.shape"
      ]
    },
    {
      "cell_type": "code",
      "execution_count": null,
      "metadata": {
        "id": "NCt2fjiYn38F"
      },
      "outputs": [],
      "source": [
        "input_layer_size  = 400;\n",
        "hidden_layer_size = 25;\n",
        "num_labels = 10;"
      ]
    },
    {
      "cell_type": "markdown",
      "metadata": {
        "id": "Cvt4lms1n38F"
      },
      "source": [
        "**Prédiction**\n",
        "\n",
        "Appliquer une propagation en avant en utilisant les paramètres données pour prédir les classes de l'ensemble d'apprentissage.\n",
        "\n"
      ]
    },
    {
      "cell_type": "code",
      "execution_count": null,
      "metadata": {
        "id": "F-9rhArSn38F"
      },
      "outputs": [],
      "source": [
        "def predict (W1, W2, X):\n",
        "\n",
        "    # appliquer une propagation en avant\n",
        "    # !--- n'oubliez pas d'appliquer la sigmoid à chaque couche afin d'avoir les probabilités ---!\n",
        "\n",
        "    # prédire la classe en choisissant la probabilité maximale parmi les 10 noeuds de sortie\n",
        "\n",
        "    # fonction d'activation de la couche d'entree --> 400\n",
        "    l1 = Sigmoid(prediction(X,W1.transpose()))\n",
        "\n",
        "    # creation de la couche cachee\n",
        "    x = np.column_stack((intercept, l1))\n",
        "\n",
        "    # fonction d'activation de la couche cachee --> 25\n",
        "    l2 = Sigmoid(prediction(x, W2.transpose()))\n",
        "\n",
        "    # couche de sortie --> 10\n",
        "    y_preds = np.expand_dims(np.argmax(l2, axis=1), axis=1)\n",
        "\n",
        "    # fixation du decalage\n",
        "    y_preds = y_preds + 1\n",
        "    y_preds[y_preds==10] = 0\n",
        "    return y_preds"
      ]
    },
    {
      "cell_type": "code",
      "execution_count": null,
      "metadata": {
        "colab": {
          "base_uri": "https://localhost:8080/"
        },
        "id": "aPRdnjHYn38F",
        "outputId": "24ce7848-d5ba-46dc-d2ba-19e9a0b67939"
      },
      "outputs": [
        {
          "output_type": "execute_result",
          "data": {
            "text/plain": [
              "97.52"
            ]
          },
          "metadata": {},
          "execution_count": 30
        }
      ],
      "source": [
        "# calcul de precision = nombre de valeurs bien prédites (ici sur toute la base X)\n",
        "y_pred = predict(W1, W2, X)\n",
        "precision = np.mean(y==y_pred)*100\n",
        "precision"
      ]
    },
    {
      "cell_type": "markdown",
      "metadata": {
        "id": "PWLz1T51n38F"
      },
      "source": [
        "# Vérification de l'implementation\n",
        "Comparer vos algorithmes à ceux de scikitlearn"
      ]
    },
    {
      "cell_type": "code",
      "execution_count": null,
      "metadata": {
        "colab": {
          "base_uri": "https://localhost:8080/",
          "height": 75
        },
        "id": "Qb5MS9pwn38G",
        "outputId": "90b48054-ab23-446c-c1e3-a037decddaec"
      },
      "outputs": [
        {
          "output_type": "execute_result",
          "data": {
            "text/plain": [
              "MLPClassifier(hidden_layer_sizes=25, max_iter=500)"
            ],
            "text/html": [
              "<style>#sk-container-id-1 {color: black;background-color: white;}#sk-container-id-1 pre{padding: 0;}#sk-container-id-1 div.sk-toggleable {background-color: white;}#sk-container-id-1 label.sk-toggleable__label {cursor: pointer;display: block;width: 100%;margin-bottom: 0;padding: 0.3em;box-sizing: border-box;text-align: center;}#sk-container-id-1 label.sk-toggleable__label-arrow:before {content: \"▸\";float: left;margin-right: 0.25em;color: #696969;}#sk-container-id-1 label.sk-toggleable__label-arrow:hover:before {color: black;}#sk-container-id-1 div.sk-estimator:hover label.sk-toggleable__label-arrow:before {color: black;}#sk-container-id-1 div.sk-toggleable__content {max-height: 0;max-width: 0;overflow: hidden;text-align: left;background-color: #f0f8ff;}#sk-container-id-1 div.sk-toggleable__content pre {margin: 0.2em;color: black;border-radius: 0.25em;background-color: #f0f8ff;}#sk-container-id-1 input.sk-toggleable__control:checked~div.sk-toggleable__content {max-height: 200px;max-width: 100%;overflow: auto;}#sk-container-id-1 input.sk-toggleable__control:checked~label.sk-toggleable__label-arrow:before {content: \"▾\";}#sk-container-id-1 div.sk-estimator input.sk-toggleable__control:checked~label.sk-toggleable__label {background-color: #d4ebff;}#sk-container-id-1 div.sk-label input.sk-toggleable__control:checked~label.sk-toggleable__label {background-color: #d4ebff;}#sk-container-id-1 input.sk-hidden--visually {border: 0;clip: rect(1px 1px 1px 1px);clip: rect(1px, 1px, 1px, 1px);height: 1px;margin: -1px;overflow: hidden;padding: 0;position: absolute;width: 1px;}#sk-container-id-1 div.sk-estimator {font-family: monospace;background-color: #f0f8ff;border: 1px dotted black;border-radius: 0.25em;box-sizing: border-box;margin-bottom: 0.5em;}#sk-container-id-1 div.sk-estimator:hover {background-color: #d4ebff;}#sk-container-id-1 div.sk-parallel-item::after {content: \"\";width: 100%;border-bottom: 1px solid gray;flex-grow: 1;}#sk-container-id-1 div.sk-label:hover label.sk-toggleable__label {background-color: #d4ebff;}#sk-container-id-1 div.sk-serial::before {content: \"\";position: absolute;border-left: 1px solid gray;box-sizing: border-box;top: 0;bottom: 0;left: 50%;z-index: 0;}#sk-container-id-1 div.sk-serial {display: flex;flex-direction: column;align-items: center;background-color: white;padding-right: 0.2em;padding-left: 0.2em;position: relative;}#sk-container-id-1 div.sk-item {position: relative;z-index: 1;}#sk-container-id-1 div.sk-parallel {display: flex;align-items: stretch;justify-content: center;background-color: white;position: relative;}#sk-container-id-1 div.sk-item::before, #sk-container-id-1 div.sk-parallel-item::before {content: \"\";position: absolute;border-left: 1px solid gray;box-sizing: border-box;top: 0;bottom: 0;left: 50%;z-index: -1;}#sk-container-id-1 div.sk-parallel-item {display: flex;flex-direction: column;z-index: 1;position: relative;background-color: white;}#sk-container-id-1 div.sk-parallel-item:first-child::after {align-self: flex-end;width: 50%;}#sk-container-id-1 div.sk-parallel-item:last-child::after {align-self: flex-start;width: 50%;}#sk-container-id-1 div.sk-parallel-item:only-child::after {width: 0;}#sk-container-id-1 div.sk-dashed-wrapped {border: 1px dashed gray;margin: 0 0.4em 0.5em 0.4em;box-sizing: border-box;padding-bottom: 0.4em;background-color: white;}#sk-container-id-1 div.sk-label label {font-family: monospace;font-weight: bold;display: inline-block;line-height: 1.2em;}#sk-container-id-1 div.sk-label-container {text-align: center;}#sk-container-id-1 div.sk-container {/* jupyter's `normalize.less` sets `[hidden] { display: none; }` but bootstrap.min.css set `[hidden] { display: none !important; }` so we also need the `!important` here to be able to override the default hidden behavior on the sphinx rendered scikit-learn.org. See: https://github.com/scikit-learn/scikit-learn/issues/21755 */display: inline-block !important;position: relative;}#sk-container-id-1 div.sk-text-repr-fallback {display: none;}</style><div id=\"sk-container-id-1\" class=\"sk-top-container\"><div class=\"sk-text-repr-fallback\"><pre>MLPClassifier(hidden_layer_sizes=25, max_iter=500)</pre><b>In a Jupyter environment, please rerun this cell to show the HTML representation or trust the notebook. <br />On GitHub, the HTML representation is unable to render, please try loading this page with nbviewer.org.</b></div><div class=\"sk-container\" hidden><div class=\"sk-item\"><div class=\"sk-estimator sk-toggleable\"><input class=\"sk-toggleable__control sk-hidden--visually\" id=\"sk-estimator-id-1\" type=\"checkbox\" checked><label for=\"sk-estimator-id-1\" class=\"sk-toggleable__label sk-toggleable__label-arrow\">MLPClassifier</label><div class=\"sk-toggleable__content\"><pre>MLPClassifier(hidden_layer_sizes=25, max_iter=500)</pre></div></div></div></div></div>"
            ]
          },
          "metadata": {},
          "execution_count": 31
        }
      ],
      "source": [
        "from sklearn.neural_network import MLPClassifier\n",
        "\n",
        "NN = MLPClassifier(hidden_layer_sizes=25, activation='relu', solver='adam', max_iter=500)\n",
        "\n",
        "NN.fit(X,y.reshape(y.shape[0]))"
      ]
    },
    {
      "cell_type": "markdown",
      "source": [
        "Comparaison du score d'exactitude(accuracy)"
      ],
      "metadata": {
        "id": "P8dj0h1dT_I2"
      }
    },
    {
      "cell_type": "code",
      "source": [
        "print(\"*** Train score ***\")\n",
        "print(\"sklearn : \", NN.score(X, y))\n",
        "print(\"ours : \", precision)"
      ],
      "metadata": {
        "colab": {
          "base_uri": "https://localhost:8080/"
        },
        "id": "9wOyH4f_T_tA",
        "outputId": "17870f09-6f8e-4097-b48c-70bd0744d829"
      },
      "execution_count": null,
      "outputs": [
        {
          "output_type": "stream",
          "name": "stdout",
          "text": [
            "*** Train score ***\n",
            "sklearn :  1.0\n",
            "ours :  97.52\n"
          ]
        }
      ]
    },
    {
      "cell_type": "markdown",
      "metadata": {
        "id": "hbkma_Mzn38G"
      },
      "source": [
        "# Renforcement d'apprentissage\n",
        "Mettre ici toute idée qui pourrait renforcer votre apprentissage"
      ]
    },
    {
      "cell_type": "code",
      "execution_count": null,
      "metadata": {
        "id": "vIo9qtgdn38G"
      },
      "outputs": [],
      "source": []
    },
    {
      "cell_type": "markdown",
      "metadata": {
        "id": "HKjwOA_Jn38G"
      },
      "source": [
        "# Consignes"
      ]
    },
    {
      "cell_type": "markdown",
      "metadata": {
        "id": "R-AJEXaSn38G"
      },
      "source": [
        "Le travail est à remettre par groupe de 4 au maximum [1..4].\n",
        "\n",
        "Le délai est le vendredi 22 Avril 2022 à 22h\n"
      ]
    },
    {
      "cell_type": "code",
      "execution_count": null,
      "metadata": {
        "id": "vGf1iPRmn38G"
      },
      "outputs": [],
      "source": [
        "# bonne chance"
      ]
    }
  ],
  "metadata": {
    "kernelspec": {
      "display_name": "Python 3",
      "language": "python",
      "name": "python3"
    },
    "language_info": {
      "codemirror_mode": {
        "name": "ipython",
        "version": 3
      },
      "file_extension": ".py",
      "mimetype": "text/x-python",
      "name": "python",
      "nbconvert_exporter": "python",
      "pygments_lexer": "ipython3",
      "version": "3.7.3"
    },
    "colab": {
      "provenance": []
    }
  },
  "nbformat": 4,
  "nbformat_minor": 0
}