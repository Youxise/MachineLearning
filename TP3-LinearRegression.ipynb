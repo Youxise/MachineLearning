{
  "cells": [
    {
      "cell_type": "markdown",
      "source": [
        "Trinôme G1 :\n",
        "- 191931066239, AMAZOUZ Sara Selma\n",
        "- 191931045284, GHENAIET Walid\n",
        "- 191931089336, MOULAI Mohamed Youcef\n",
        "\n",
        "\n",
        "---\n",
        "\n"
      ],
      "metadata": {
        "id": "ulW6a1N80Sgg"
      }
    },
    {
      "cell_type": "markdown",
      "metadata": {
        "id": "qFvd9vtY8VbO"
      },
      "source": [
        "# TP 3 Regression linéaire\n",
        "Dans ce TP, nous aimerions prédire l'admission d'un étudiant à une specialité donnée selon ses notes dans deux matières.\n",
        "\n",
        "Pour ce faire, nous étudierons un ensemble de données avec l'admission  (y) et les notes des deux modules (X).\n",
        "\n",
        "La prédiction se fera avec l'agorithme de descente du gradient."
      ]
    },
    {
      "cell_type": "markdown",
      "metadata": {
        "id": "hps34p-y8VbS"
      },
      "source": [
        "# Importation des librairies necessaires au travail"
      ]
    },
    {
      "cell_type": "code",
      "execution_count": null,
      "metadata": {
        "id": "EG5icN9z8VbS"
      },
      "outputs": [],
      "source": [
        "import numpy as np\n",
        "import matplotlib.pyplot as plt\n"
      ]
    },
    {
      "cell_type": "markdown",
      "metadata": {
        "id": "2gZtjuIb8VbT"
      },
      "source": [
        "# Lecture des fichiers de données\n",
        "Pour ce TP, nous allons lire les données à partir d'un fichier csv."
      ]
    },
    {
      "cell_type": "code",
      "execution_count": null,
      "metadata": {
        "colab": {
          "base_uri": "https://localhost:8080/"
        },
        "id": "KczRLQL48VbU",
        "outputId": "92246b67-bbc0-4aaf-c057-7f9361bc3031"
      },
      "outputs": [
        {
          "output_type": "execute_result",
          "data": {
            "text/plain": [
              "(100, 3)"
            ]
          },
          "metadata": {},
          "execution_count": 50
        }
      ],
      "source": [
        "# données\n",
        "data = np.genfromtxt('data.csv', delimiter=',', dtype=float)\n",
        "data.shape"
      ]
    },
    {
      "cell_type": "markdown",
      "metadata": {
        "id": "EaJ5t2ic8VbU"
      },
      "source": [
        "Dans ces données (data), la première colonne represente la première note, la deuxieme colonne la deuxième note et la troisième colonne represente l'admission à la specialité (1 admis 0 non admis).\n",
        "\n",
        "Chaque ligne represente un exemple de notre ensemble de données.\n",
        "\n",
        "Mettons ces données dans leus vecteurs correspondants."
      ]
    },
    {
      "cell_type": "code",
      "execution_count": null,
      "metadata": {
        "colab": {
          "base_uri": "https://localhost:8080/"
        },
        "id": "mhcItsF68VbV",
        "outputId": "ea2c6f1c-9407-4995-e277-139f9c27637c"
      },
      "outputs": [
        {
          "output_type": "stream",
          "name": "stdout",
          "text": [
            "X\n",
            "[[ 1.      6.9247 15.605 ]\n",
            " [ 1.      6.0573  8.779 ]\n",
            " [ 1.      7.1695 14.58  ]\n",
            " [ 1.     12.037  17.262 ]\n",
            " [ 1.     15.807  15.069 ]\n",
            " [ 1.      9.0167 11.263 ]\n",
            " [ 1.     12.221  19.302 ]\n",
            " [ 1.     15.005   9.3108]\n",
            " [ 1.     15.22   17.484 ]\n",
            " [ 1.     16.887   8.7067]\n",
            " [ 1.     19.172   7.6451]\n",
            " [ 1.     15.003   6.1207]\n",
            " [ 1.     16.461  15.296 ]\n",
            " [ 1.     13.873  19.544 ]\n",
            " [ 1.      7.9077 15.207 ]\n",
            " [ 1.     10.794  17.841 ]\n",
            " [ 1.     13.814  10.548 ]\n",
            " [ 1.     13.589   9.3357]\n",
            " [ 1.     14.132  18.585 ]\n",
            " [ 1.     15.396   9.5152]\n",
            " [ 1.     13.474   8.5677]\n",
            " [ 1.     17.935  13.16  ]\n",
            " [ 1.     10.107   9.7712]\n",
            " [ 1.      6.8424  8.8419]\n",
            " [ 1.     15.585  13.794 ]\n",
            " [ 1.     12.454  13.991 ]\n",
            " [ 1.     16.038   8.9643]\n",
            " [ 1.     18.623   7.7601]\n",
            " [ 1.     12.366  10.051 ]\n",
            " [ 1.      7.7572 12.999 ]\n",
            " [ 1.     12.276  14.562 ]\n",
            " [ 1.     17.081  11.41  ]\n",
            " [ 1.     10.422  12.626 ]\n",
            " [ 1.     10.409  13.887 ]\n",
            " [ 1.      8.0474 14.234 ]\n",
            " [ 1.     10.927  10.443 ]\n",
            " [ 1.      6.7831 19.774 ]\n",
            " [ 1.     12.835  16.182 ]\n",
            " [ 1.     14.958   8.3147]\n",
            " [ 1.      6.8367 15.048 ]\n",
            " [ 1.     16.78   11.262 ]\n",
            " [ 1.     10.31    9.3713]\n",
            " [ 1.     18.889  13.114 ]\n",
            " [ 1.     16.474   8.1237]\n",
            " [ 1.     10.21    9.1645]\n",
            " [ 1.     12.445  10.412 ]\n",
            " [ 1.     15.439  14.092 ]\n",
            " [ 1.     19.554  17.346 ]\n",
            " [ 1.     12.415  19.354 ]\n",
            " [ 1.     18.313  17.739 ]\n",
            " [ 1.     15.989  14.833 ]\n",
            " [ 1.     19.855  12.2   ]\n",
            " [ 1.     18.109   8.6781]\n",
            " [ 1.      6.9049 12.079 ]\n",
            " [ 1.     10.057   9.9609]\n",
            " [ 1.      9.9173 11.962 ]\n",
            " [ 1.     19.529  13.772 ]\n",
            " [ 1.      6.5154 19.12  ]\n",
            " [ 1.     14.85   13.965 ]\n",
            " [ 1.     14.359  15.691 ]\n",
            " [ 1.     15.079  17.152 ]\n",
            " [ 1.      7.0572  9.4041]\n",
            " [ 1.     11.251   7.8523]\n",
            " [ 1.      6.0118  9.9186]\n",
            " [ 1.      8.9337 13.29  ]\n",
            " [ 1.     13.312   8.2184]\n",
            " [ 1.      8.0915 19.507 ]\n",
            " [ 1.      9.8145 10.377 ]\n",
            " [ 1.     16.056  18.423 ]\n",
            " [ 1.     13.349  12.198 ]\n",
            " [ 1.      6.5446  8.6614]\n",
            " [ 1.     12.808  15.606 ]\n",
            " [ 1.     14.469  19.246 ]\n",
            " [ 1.     12.092  14.619 ]\n",
            " [ 1.     11.768  15.172 ]\n",
            " [ 1.     19.966  14.474 ]\n",
            " [ 1.      9.4529 17.695 ]\n",
            " [ 1.     10.092  15.162 ]\n",
            " [ 1.     12.091   8.5017]\n",
            " [ 1.     16.445   8.544 ]\n",
            " [ 1.     17.783  13.961 ]\n",
            " [ 1.     18.967   9.1389]\n",
            " [ 1.     13.464  13.318 ]\n",
            " [ 1.     11.448  11.903 ]\n",
            " [ 1.     16.073  18.192 ]\n",
            " [ 1.     13.694  17.119 ]\n",
            " [ 1.      8.4151 15.769 ]\n",
            " [ 1.     15.096  18.085 ]\n",
            " [ 1.     15.727  19.329 ]\n",
            " [ 1.     10.47   12.154 ]\n",
            " [ 1.     18.819  15.432 ]\n",
            " [ 1.     18.09   17.502 ]\n",
            " [ 1.     11.096   7.1141]\n",
            " [ 1.     14.899  16.969 ]\n",
            " [ 1.     17.969   9.0717]\n",
            " [ 1.     16.698   9.6761]\n",
            " [ 1.      8.4523 17.421 ]\n",
            " [ 1.     19.863  13.755 ]\n",
            " [ 1.     11.068  12.986 ]\n",
            " [ 1.     14.955  17.906 ]]\n",
            "y\n",
            "[0. 0. 0. 1. 1. 0. 1. 1. 1. 1. 0. 0. 1. 1. 0. 1. 1. 0. 1. 1. 0. 1. 0. 0.\n",
            " 1. 1. 1. 0. 0. 0. 1. 1. 0. 1. 0. 0. 0. 1. 0. 0. 1. 0. 1. 0. 0. 0. 1. 1.\n",
            " 1. 1. 1. 1. 1. 0. 0. 0. 1. 0. 1. 1. 1. 0. 0. 0. 0. 0. 1. 0. 1. 1. 0. 1.\n",
            " 1. 1. 1. 1. 1. 1. 0. 0. 1. 1. 1. 1. 1. 1. 0. 1. 1. 0. 1. 1. 0. 1. 1. 1.\n",
            " 1. 1. 1. 1.]\n"
          ]
        }
      ],
      "source": [
        "# rajoutons l'ordonnée à l'origine theta 0\n",
        "intercept=np.ones((data.shape[0],1))\n",
        "X=np.column_stack((intercept,data[:,0:2]))\n",
        "y = data[:, 2];\n",
        "print(\"X\")\n",
        "print(X)\n",
        "print(\"y\")\n",
        "print(y)\n",
        "y = y.reshape(y.shape[0],1)"
      ]
    },
    {
      "cell_type": "code",
      "execution_count": null,
      "metadata": {
        "colab": {
          "base_uri": "https://localhost:8080/"
        },
        "id": "BF3WM-r08VbV",
        "outputId": "d390bf16-40f4-4eb0-f5c2-ddb6bba80e23"
      },
      "outputs": [
        {
          "output_type": "stream",
          "name": "stdout",
          "text": [
            "X (100, 3)  y  (100, 1)\n"
          ]
        }
      ],
      "source": [
        "print('X', X.shape ,' y ', y.shape)"
      ]
    },
    {
      "cell_type": "markdown",
      "metadata": {
        "id": "-SvSUtf98VbV"
      },
      "source": [
        "# Descente du Gradient : Préparation des fonctions"
      ]
    },
    {
      "cell_type": "code",
      "source": [
        "def prediction(X, theta):\n",
        "  return np.dot(X, theta)"
      ],
      "metadata": {
        "id": "9diFKi9QMdT6"
      },
      "execution_count": null,
      "outputs": []
    },
    {
      "cell_type": "markdown",
      "metadata": {
        "id": "5Ob7QDZk8VbW"
      },
      "source": [
        "0- Fonction mpgistique (Sigmoid)"
      ]
    },
    {
      "cell_type": "code",
      "execution_count": null,
      "metadata": {
        "id": "HMxueo6v8VbW"
      },
      "outputs": [],
      "source": [
        "def Sigmoid(z):\n",
        "    # pour une valeur donnée, cette fonction calculera sa sigmoid\n",
        "    return 1 / (1 + np.exp(-z))"
      ]
    },
    {
      "cell_type": "markdown",
      "metadata": {
        "id": "TdRciYCL8VbW"
      },
      "source": [
        "1- Calcul du coût\n",
        "\n",
        "Cette fonction servira à calculer le cout $J(\\theta_0,\\theta_1)$\n",
        "\n",
        "Elle prendra l'ensemble de données d'apprentissage en entrée ainsi que les paramètres définis initialement"
      ]
    },
    {
      "cell_type": "code",
      "execution_count": null,
      "metadata": {
        "id": "2e8pWWJw8VbX"
      },
      "outputs": [],
      "source": [
        "def computeCost(X, y, theta):\n",
        "    # idéalement, tracer le coût à chaque itération pour s'assurer que la descente du gradient est correcte\n",
        "\n",
        "    # calculer le coût avec et sans vectorisation,\n",
        "    # comparer le temps de traitement\n",
        "    wahed = np.ones((y.shape[0], 1)).astype(float)\n",
        "    y_preds = Sigmoid(prediction(X, theta))\n",
        "\n",
        "    return (-1) * ( np.dot(y.transpose(), np.log(y_preds)) + np.dot((wahed - y).transpose(), np.log(wahed - y_preds)) ) / y.shape[0]"
      ]
    },
    {
      "cell_type": "markdown",
      "metadata": {
        "id": "u3bqXoY_8VbX"
      },
      "source": [
        "2- Fonction de la descente du gradient\n",
        "\n",
        "Cette fonction mettra à jour les paramètres $\\theta_0,\\theta_1$ jusqu'à convergence: atteinte du nombre d'itérations max, ou dérivée assez petite."
      ]
    },
    {
      "cell_type": "code",
      "execution_count": null,
      "metadata": {
        "id": "4ULQiVxb8VbX"
      },
      "outputs": [],
      "source": [
        "def gradientDescent(X, y, theta, alpha, iterations):\n",
        "    # garder aussi le cout à chaque itération\n",
        "    # pour afficher le coût en fonction de theta0 et theta1\n",
        "\n",
        "    thetas = []\n",
        "    costs = []\n",
        "\n",
        "    for i in range(iterations):\n",
        "\n",
        "      # feed forward\n",
        "      cost = computeCost(X, y, theta)\n",
        "\n",
        "      # sauvegarde des couts & thetas\n",
        "      costs.append(cost)\n",
        "      thetas.append(np.array(theta))\n",
        "\n",
        "      # calcul des derivees & modification des poids thetas (back propagation)\n",
        "      for j in range(X.shape[1]):\n",
        "        d = np.dot(np.array(X[:,j]).transpose(), (Sigmoid(prediction(X, theta)) - y)) / y.shape[0]\n",
        "        theta[j] -= alpha * d\n",
        "\n",
        "    return np.array(thetas), np.array(costs)"
      ]
    },
    {
      "cell_type": "markdown",
      "metadata": {
        "id": "n_hxM1JI8VbX"
      },
      "source": [
        "# Descente du Gradient : Appel des fonctions"
      ]
    },
    {
      "cell_type": "markdown",
      "metadata": {
        "id": "e7O0rIoZ8VbX"
      },
      "source": [
        "Initialisation de $\\theta_0$ et $\\theta_1$"
      ]
    },
    {
      "cell_type": "code",
      "execution_count": null,
      "metadata": {
        "colab": {
          "base_uri": "https://localhost:8080/"
        },
        "id": "92oDApOe8VbY",
        "outputId": "a0d0be13-02d8-4c9a-8eb9-d68f1dee01d9"
      },
      "outputs": [
        {
          "output_type": "execute_result",
          "data": {
            "text/plain": [
              "array([[0.],\n",
              "       [0.],\n",
              "       [0.]])"
            ]
          },
          "metadata": {},
          "execution_count": 57
        }
      ],
      "source": [
        "n=X.shape[1]\n",
        "theta = np.zeros((n, 1))\n",
        "theta = theta.astype(float)\n",
        "theta"
      ]
    },
    {
      "cell_type": "markdown",
      "metadata": {
        "id": "9BfkyKS-8VbY"
      },
      "source": [
        "Calculer le cout initial"
      ]
    },
    {
      "cell_type": "code",
      "execution_count": null,
      "metadata": {
        "colab": {
          "base_uri": "https://localhost:8080/"
        },
        "id": "k768c17J8VbY",
        "outputId": "f227ed85-15bc-4b58-b46b-bb15a03900b9"
      },
      "outputs": [
        {
          "output_type": "execute_result",
          "data": {
            "text/plain": [
              "array([[0.69314718]])"
            ]
          },
          "metadata": {},
          "execution_count": 58
        }
      ],
      "source": [
        "initialCost=computeCost(X, y, theta)\n",
        "initialCost"
      ]
    },
    {
      "cell_type": "markdown",
      "metadata": {
        "id": "rLQh8TN58VbY"
      },
      "source": [
        "Appel des la fonction de calcul du gradient"
      ]
    },
    {
      "cell_type": "code",
      "execution_count": null,
      "metadata": {
        "id": "u2RtR-DD8VbY"
      },
      "outputs": [],
      "source": [
        "# paramètres\n",
        "iterations = 10000\n",
        "alpha = 0.052\n",
        "# Appel\n",
        "thetas, costs = gradientDescent(X, y, theta, alpha, iterations)"
      ]
    },
    {
      "cell_type": "code",
      "source": [
        "finalCost = costs[-1]\n",
        "finalCost"
      ],
      "metadata": {
        "colab": {
          "base_uri": "https://localhost:8080/"
        },
        "id": "vRZoxmVpwuZB",
        "outputId": "3706da8a-13eb-44bf-85b9-9623dd28e9f6"
      },
      "execution_count": null,
      "outputs": [
        {
          "output_type": "execute_result",
          "data": {
            "text/plain": [
              "array([[0.25002751]])"
            ]
          },
          "metadata": {},
          "execution_count": 60
        }
      ]
    },
    {
      "cell_type": "code",
      "source": [
        "finalThetas = thetas[-1]\n",
        "finalThetas"
      ],
      "metadata": {
        "colab": {
          "base_uri": "https://localhost:8080/"
        },
        "id": "j3d7wWUFw7Z-",
        "outputId": "537687bd-41a0-4919-c7f5-63a6ebb6f49a"
      },
      "execution_count": null,
      "outputs": [
        {
          "output_type": "execute_result",
          "data": {
            "text/plain": [
              "array([[-11.96222885],\n",
              "       [  0.50495791],\n",
              "       [  0.47434326]])"
            ]
          },
          "metadata": {},
          "execution_count": 61
        }
      ]
    },
    {
      "cell_type": "markdown",
      "metadata": {
        "id": "B50ehlgD8VbY"
      },
      "source": [
        "Traçage de la fonction du coût"
      ]
    },
    {
      "cell_type": "code",
      "source": [
        "def plot_cost(costs):\n",
        "  plt.plot(costs.reshape(costs.shape[0],1))\n",
        "  plt.xlabel('Itérations')\n",
        "  plt.ylabel('Coût')\n",
        "  plt.title(\"Coût en fonction des itérations\")\n",
        "  plt.show()"
      ],
      "metadata": {
        "id": "bqmjTffzrtob"
      },
      "execution_count": null,
      "outputs": []
    },
    {
      "cell_type": "code",
      "source": [
        "plot_cost(costs)"
      ],
      "metadata": {
        "colab": {
          "base_uri": "https://localhost:8080/",
          "height": 472
        },
        "id": "Pad05hBtymY5",
        "outputId": "98978c5f-fe61-4ce2-f91f-01f1fa49841d"
      },
      "execution_count": null,
      "outputs": [
        {
          "output_type": "display_data",
          "data": {
            "text/plain": [
              "<Figure size 640x480 with 1 Axes>"
            ],
            "image/png": "[encoded data removed]"
          },
          "metadata": {}
        }
      ]
    },
    {
      "cell_type": "markdown",
      "metadata": {
        "id": "ednXXKNi8VbZ"
      },
      "source": [
        "Notons que $\\theta^T  x$ est équivalent à $X  \\theta $ où $X= \\begin{pmatrix}\n",
        "..(x^{(1)})^T..\\\\\n",
        "..(x^{(2)})^T..\\\\\n",
        ".\\\\\n",
        ".\\\\\n",
        ".\\\\\n",
        "..(x^{(m)})^T..\n",
        "\\end{pmatrix} $"
      ]
    },
    {
      "cell_type": "markdown",
      "source": [
        "fonction de prediction des classes"
      ],
      "metadata": {
        "id": "E3T4wS8YxxE8"
      }
    },
    {
      "cell_type": "code",
      "source": [
        "def predict_class(X, theta):\n",
        "  y_pred = Sigmoid(prediction(X, theta))\n",
        "  for i in range(y_pred.shape[0]):\n",
        "    y_pred[i] = 0 if y_pred[i] <= 0.5 else 1\n",
        "  return y_pred"
      ],
      "metadata": {
        "id": "paSPnyZzzowp"
      },
      "execution_count": null,
      "outputs": []
    },
    {
      "cell_type": "markdown",
      "metadata": {
        "id": "8p-qAjIs8VbZ"
      },
      "source": [
        "# Dessin de la limite de decision (Descision Boundary)\n",
        "Dans cette partie, nous aimerions dessiner la ligne separatrice d nos données"
      ]
    },
    {
      "cell_type": "code",
      "execution_count": null,
      "metadata": {
        "id": "l6o9zRkf8VbZ"
      },
      "outputs": [],
      "source": [
        "def drawLine(X, y, theta):\n",
        "\n",
        "    a = X[:, 1].min()\n",
        "    b = X[:, 1].max()\n",
        "\n",
        "    # Calculer the new values of a & b, pour the decision boundary line\n",
        "    new_a = (-theta[0] - theta[1]* a) / theta[2]\n",
        "    new_b = (-theta[0] - theta[1]* b) / theta[2]\n",
        "\n",
        "    plt.scatter(X[np.where(y==1),1],X[np.where(y==1),2], label=\"accepte\",marker ='o')\n",
        "    plt.scatter(X[np.where(y==0),1],X[np.where(y==0),2], label=\"non accepte\",marker ='x')\n",
        "\n",
        "    plt.plot([a, b], [new_a, new_b], label='sigmoid function', color='green')\n",
        "    plt.xlabel('Note module 1')\n",
        "    plt.ylabel('Note module 2')\n",
        "    plt.show()"
      ]
    },
    {
      "cell_type": "code",
      "source": [
        "print(\" *** Decision Boundary *** \")\n",
        "drawLine(X, y, finalThetas)"
      ],
      "metadata": {
        "colab": {
          "base_uri": "https://localhost:8080/",
          "height": 466
        },
        "id": "dhjL1a8ZNVB_",
        "outputId": "99e81d28-bde2-4d08-d35a-ccb32ed13143"
      },
      "execution_count": null,
      "outputs": [
        {
          "output_type": "stream",
          "name": "stdout",
          "text": [
            " *** Decision Boundary *** \n"
          ]
        },
        {
          "output_type": "display_data",
          "data": {
            "text/plain": [
              "<Figure size 640x480 with 1 Axes>"
            ],
            "image/png": "[encoded data removed]"
          },
          "metadata": {}
        }
      ]
    },
    {
      "cell_type": "markdown",
      "metadata": {
        "id": "nZdNW3Zv8VbZ"
      },
      "source": [
        "# Affichage\n",
        "Graphe representant les acceptations selon les caracteristiques"
      ]
    },
    {
      "cell_type": "code",
      "execution_count": null,
      "metadata": {
        "id": "tBVoyRi28VbZ",
        "outputId": "87c2811e-acaa-4960-a3b8-2149a2132ca1",
        "colab": {
          "base_uri": "https://localhost:8080/",
          "height": 466
        }
      },
      "outputs": [
        {
          "output_type": "execute_result",
          "data": {
            "text/plain": [
              "Text(0, 0.5, 'Note module 2')"
            ]
          },
          "metadata": {},
          "execution_count": 67
        },
        {
          "output_type": "display_data",
          "data": {
            "text/plain": [
              "<Figure size 640x480 with 1 Axes>"
            ],
            "image/png": "[encoded data removed]"
          },
          "metadata": {}
        }
      ],
      "source": [
        "plt.scatter(X[np.where(y==1),1],X[np.where(y==1),2], label=\"accepte\",marker ='o')\n",
        "plt.scatter(X[np.where(y==0),1],X[np.where(y==0),2], label=\"non accepte\",marker ='x')\n",
        "\n",
        "plt.xlabel('Note module 1')\n",
        "plt.ylabel('Note module 2')"
      ]
    },
    {
      "cell_type": "markdown",
      "metadata": {
        "id": "Pa0CzMJu8VbZ"
      },
      "source": [
        "Prédire des valeurs de y"
      ]
    },
    {
      "cell_type": "code",
      "execution_count": null,
      "metadata": {
        "id": "qyU0RIE-8Vba",
        "colab": {
          "base_uri": "https://localhost:8080/"
        },
        "outputId": "692bf98f-d954-426f-8fe1-09aac738797a"
      },
      "outputs": [
        {
          "output_type": "stream",
          "name": "stdout",
          "text": [
            "[[1.]]\n"
          ]
        }
      ],
      "source": [
        "# Predire pour des notes note1= 9 et note2=17\n",
        "print(predict_class(np.array([[1, 9, 17]]).astype(float), finalThetas))\n"
      ]
    },
    {
      "cell_type": "markdown",
      "metadata": {
        "id": "0LdHrdFq8Vba"
      },
      "source": [
        "# Vérification de l'implementation\n",
        "Comparer vos algorithmes à ceux de scikitlearn"
      ]
    },
    {
      "cell_type": "code",
      "execution_count": null,
      "metadata": {
        "id": "2OIW-_2P8Vba",
        "colab": {
          "base_uri": "https://localhost:8080/",
          "height": 129
        },
        "outputId": "3607b348-3497-47ef-8308-ada29683509b"
      },
      "outputs": [
        {
          "output_type": "stream",
          "name": "stderr",
          "text": [
            "/usr/local/lib/python3.9/dist-packages/sklearn/utils/validation.py:1143: DataConversionWarning: A column-vector y was passed when a 1d array was expected. Please change the shape of y to (n_samples, ), for example using ravel().\n",
            "  y = column_or_1d(y, warn=True)\n"
          ]
        },
        {
          "output_type": "execute_result",
          "data": {
            "text/plain": [
              "LogisticRegression()"
            ],
            "text/html": [
              "<style>#sk-container-id-2 {color: black;background-color: white;}#sk-container-id-2 pre{padding: 0;}#sk-container-id-2 div.sk-toggleable {background-color: white;}#sk-container-id-2 label.sk-toggleable__label {cursor: pointer;display: block;width: 100%;margin-bottom: 0;padding: 0.3em;box-sizing: border-box;text-align: center;}#sk-container-id-2 label.sk-toggleable__label-arrow:before {content: \"▸\";float: left;margin-right: 0.25em;color: #696969;}#sk-container-id-2 label.sk-toggleable__label-arrow:hover:before {color: black;}#sk-container-id-2 div.sk-estimator:hover label.sk-toggleable__label-arrow:before {color: black;}#sk-container-id-2 div.sk-toggleable__content {max-height: 0;max-width: 0;overflow: hidden;text-align: left;background-color: #f0f8ff;}#sk-container-id-2 div.sk-toggleable__content pre {margin: 0.2em;color: black;border-radius: 0.25em;background-color: #f0f8ff;}#sk-container-id-2 input.sk-toggleable__control:checked~div.sk-toggleable__content {max-height: 200px;max-width: 100%;overflow: auto;}#sk-container-id-2 input.sk-toggleable__control:checked~label.sk-toggleable__label-arrow:before {content: \"▾\";}#sk-container-id-2 div.sk-estimator input.sk-toggleable__control:checked~label.sk-toggleable__label {background-color: #d4ebff;}#sk-container-id-2 div.sk-label input.sk-toggleable__control:checked~label.sk-toggleable__label {background-color: #d4ebff;}#sk-container-id-2 input.sk-hidden--visually {border: 0;clip: rect(1px 1px 1px 1px);clip: rect(1px, 1px, 1px, 1px);height: 1px;margin: -1px;overflow: hidden;padding: 0;position: absolute;width: 1px;}#sk-container-id-2 div.sk-estimator {font-family: monospace;background-color: #f0f8ff;border: 1px dotted black;border-radius: 0.25em;box-sizing: border-box;margin-bottom: 0.5em;}#sk-container-id-2 div.sk-estimator:hover {background-color: #d4ebff;}#sk-container-id-2 div.sk-parallel-item::after {content: \"\";width: 100%;border-bottom: 1px solid gray;flex-grow: 1;}#sk-container-id-2 div.sk-label:hover label.sk-toggleable__label {background-color: #d4ebff;}#sk-container-id-2 div.sk-serial::before {content: \"\";position: absolute;border-left: 1px solid gray;box-sizing: border-box;top: 0;bottom: 0;left: 50%;z-index: 0;}#sk-container-id-2 div.sk-serial {display: flex;flex-direction: column;align-items: center;background-color: white;padding-right: 0.2em;padding-left: 0.2em;position: relative;}#sk-container-id-2 div.sk-item {position: relative;z-index: 1;}#sk-container-id-2 div.sk-parallel {display: flex;align-items: stretch;justify-content: center;background-color: white;position: relative;}#sk-container-id-2 div.sk-item::before, #sk-container-id-2 div.sk-parallel-item::before {content: \"\";position: absolute;border-left: 1px solid gray;box-sizing: border-box;top: 0;bottom: 0;left: 50%;z-index: -1;}#sk-container-id-2 div.sk-parallel-item {display: flex;flex-direction: column;z-index: 1;position: relative;background-color: white;}#sk-container-id-2 div.sk-parallel-item:first-child::after {align-self: flex-end;width: 50%;}#sk-container-id-2 div.sk-parallel-item:last-child::after {align-self: flex-start;width: 50%;}#sk-container-id-2 div.sk-parallel-item:only-child::after {width: 0;}#sk-container-id-2 div.sk-dashed-wrapped {border: 1px dashed gray;margin: 0 0.4em 0.5em 0.4em;box-sizing: border-box;padding-bottom: 0.4em;background-color: white;}#sk-container-id-2 div.sk-label label {font-family: monospace;font-weight: bold;display: inline-block;line-height: 1.2em;}#sk-container-id-2 div.sk-label-container {text-align: center;}#sk-container-id-2 div.sk-container {/* jupyter's `normalize.less` sets `[hidden] { display: none; }` but bootstrap.min.css set `[hidden] { display: none !important; }` so we also need the `!important` here to be able to override the default hidden behavior on the sphinx rendered scikit-learn.org. See: https://github.com/scikit-learn/scikit-learn/issues/21755 */display: inline-block !important;position: relative;}#sk-container-id-2 div.sk-text-repr-fallback {display: none;}</style><div id=\"sk-container-id-2\" class=\"sk-top-container\"><div class=\"sk-text-repr-fallback\"><pre>LogisticRegression()</pre><b>In a Jupyter environment, please rerun this cell to show the HTML representation or trust the notebook. <br />On GitHub, the HTML representation is unable to render, please try loading this page with nbviewer.org.</b></div><div class=\"sk-container\" hidden><div class=\"sk-item\"><div class=\"sk-estimator sk-toggleable\"><input class=\"sk-toggleable__control sk-hidden--visually\" id=\"sk-estimator-id-2\" type=\"checkbox\" checked><label for=\"sk-estimator-id-2\" class=\"sk-toggleable__label sk-toggleable__label-arrow\">LogisticRegression</label><div class=\"sk-toggleable__content\"><pre>LogisticRegression()</pre></div></div></div></div></div>"
            ]
          },
          "metadata": {},
          "execution_count": 69
        }
      ],
      "source": [
        "from sklearn.linear_model import LogisticRegression\n",
        "\n",
        "LR = LogisticRegression()\n",
        "#y = y.reshape(y.shape[0])\n",
        "LR.fit(X,y)"
      ]
    },
    {
      "cell_type": "markdown",
      "metadata": {
        "id": "0_AEBZteJ1WG"
      },
      "source": [
        "Comparaison des thetas & du coût"
      ]
    },
    {
      "cell_type": "code",
      "source": [
        "print(\"*** THETAS ***\")\n",
        "skThetas = np.array([[LR.intercept_], [LR.coef_[0][1]], [LR.coef_[0][2]]]).astype(float)\n",
        "print('sklearn = ')\n",
        "print(skThetas)\n",
        "print('ours    = ')\n",
        "print(finalThetas)\n",
        "print(\"*** COST ***\")\n",
        "print('sklearn = ', computeCost(X, y, skThetas))\n",
        "print('ours    = ', finalCost)"
      ],
      "metadata": {
        "colab": {
          "base_uri": "https://localhost:8080/"
        },
        "id": "E8jRWf-1wl_m",
        "outputId": "5ae3b86d-5974-4863-9f8b-e3b07e6fb1b6"
      },
      "execution_count": null,
      "outputs": [
        {
          "output_type": "stream",
          "name": "stdout",
          "text": [
            "*** THETAS ***\n",
            "sklearn = \n",
            "[[-22.9317941 ]\n",
            " [  0.94159401]\n",
            " [  0.91667069]]\n",
            "ours    = \n",
            "[[-11.96222885]\n",
            " [  0.50495791]\n",
            " [  0.47434326]]\n",
            "*** COST ***\n",
            "sklearn =  [[0.20429896]]\n",
            "ours    =  [[0.25002751]]\n"
          ]
        },
        {
          "output_type": "stream",
          "name": "stderr",
          "text": [
            "<ipython-input-70-8a5dc019a058>:2: VisibleDeprecationWarning: Creating an ndarray from ragged nested sequences (which is a list-or-tuple of lists-or-tuples-or ndarrays with different lengths or shapes) is deprecated. If you meant to do this, you must specify 'dtype=object' when creating the ndarray.\n",
            "  skThetas = np.array([[LR.intercept_], [LR.coef_[0][1]], [LR.coef_[0][2]]]).astype(float)\n"
          ]
        }
      ]
    },
    {
      "cell_type": "markdown",
      "source": [
        "Comparaison graphique"
      ],
      "metadata": {
        "id": "RyIbV5I2yBo2"
      }
    },
    {
      "cell_type": "code",
      "source": [
        "print(\" *** sklearn decision boundary *** \")\n",
        "drawLine(X, y, skThetas)\n",
        "print()\n",
        "print(\" *** our decision boundary *** \")\n",
        "drawLine(X, y, finalThetas)"
      ],
      "metadata": {
        "id": "UQNlNLLrwDDi",
        "colab": {
          "base_uri": "https://localhost:8080/",
          "height": 933
        },
        "outputId": "abcc715a-abe3-432c-b70a-bd3b78a975f3"
      },
      "execution_count": null,
      "outputs": [
        {
          "output_type": "stream",
          "name": "stdout",
          "text": [
            " *** sklearn decision boundary *** \n"
          ]
        },
        {
          "output_type": "display_data",
          "data": {
            "text/plain": [
              "<Figure size 640x480 with 1 Axes>"
            ],
            "image/png": "[encoded data removed]"
          },
          "metadata": {}
        },
        {
          "output_type": "stream",
          "name": "stdout",
          "text": [
            "\n",
            " *** our decision boundary *** \n"
          ]
        },
        {
          "output_type": "display_data",
          "data": {
            "text/plain": [
              "<Figure size 640x480 with 1 Axes>"
            ],
            "image/png": "[encoded data removed]"
          },
          "metadata": {}
        }
      ]
    },
    {
      "cell_type": "markdown",
      "source": [
        "Comparaison du score d'exactitude(accuracy)"
      ],
      "metadata": {
        "id": "P8dj0h1dT_I2"
      }
    },
    {
      "cell_type": "code",
      "source": [
        "print(\"*** Train score ***\")\n",
        "print(\"sklearn : \", LR.score(X, y))\n",
        "print(\"ours : \", np.sum(predict_class(X, finalThetas) == y) / y.shape[0])"
      ],
      "metadata": {
        "colab": {
          "base_uri": "https://localhost:8080/"
        },
        "id": "9wOyH4f_T_tA",
        "outputId": "0f341b7d-60e1-4226-9bd0-b41541611572"
      },
      "execution_count": null,
      "outputs": [
        {
          "output_type": "stream",
          "name": "stdout",
          "text": [
            "*** Train score ***\n",
            "sklearn :  0.89\n",
            "ours :  0.91\n"
          ]
        }
      ]
    },
    {
      "cell_type": "markdown",
      "metadata": {
        "id": "iQsNqjDa8Vba"
      },
      "source": [
        "# Renforcement d'apprentissage\n",
        "Mettre ici toute idée qui pourrait renforcer votre apprentissage"
      ]
    },
    {
      "cell_type": "code",
      "execution_count": null,
      "metadata": {
        "id": "WOnbgeBU8Vba"
      },
      "outputs": [],
      "source": [
        "#"
      ]
    },
    {
      "cell_type": "markdown",
      "metadata": {
        "id": "sf3n8Ajg8Vba"
      },
      "source": [
        "# Consignes"
      ]
    },
    {
      "cell_type": "markdown",
      "metadata": {
        "id": "QPcvwCDs8Vbb"
      },
      "source": [
        "Le travail est à remettre par groupe de 4 au maximum [1..4].\n",
        "\n",
        "Le délai est le vendredi 18 Avril 2023\n"
      ]
    },
    {
      "cell_type": "code",
      "execution_count": null,
      "metadata": {
        "id": "TmrrFrsb8Vbb"
      },
      "outputs": [],
      "source": [
        "# bonne chance"
      ]
    }
  ],
  "metadata": {
    "kernelspec": {
      "display_name": "Python 3 (ipykernel)",
      "language": "python",
      "name": "python3"
    },
    "language_info": {
      "codemirror_mode": {
        "name": "ipython",
        "version": 3
      },
      "file_extension": ".py",
      "mimetype": "text/x-python",
      "name": "python",
      "nbconvert_exporter": "python",
      "pygments_lexer": "ipython3",
      "version": "3.9.13"
    },
    "colab": {
      "provenance": []
    }
  },
  "nbformat": 4,
  "nbformat_minor": 0
}